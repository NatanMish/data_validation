{
 "cells": [
  {
   "cell_type": "markdown",
   "metadata": {
    "pycharm": {
     "name": "#%% md\n"
    }
   },
   "source": [
    "# Data Validation in Model Serving"
   ]
  },
  {
   "cell_type": "markdown",
   "metadata": {
    "pycharm": {
     "name": "#%% md\n"
    }
   },
   "source": [
    "In this notebook, we will go through the process of validating data in the serving phase of the data science pipeline."
   ]
  },
  {
   "cell_type": "markdown",
   "metadata": {
    "pycharm": {
     "name": "#%% md\n"
    }
   },
   "source": [
    "[![Open In Colab](https://colab.research.google.com/assets/colab-badge.svg)](https://colab.research.google.com/github/NatanMish/data_validation/blob/main/notebooks/3_model_serving_data_validation.ipynb)"
   ]
  },
  {
   "cell_type": "markdown",
   "metadata": {
    "pycharm": {
     "name": "#%% md\n"
    }
   },
   "source": [
    "#### Install the required packages and import them to the notebook"
   ]
  },
  {
   "cell_type": "code",
   "execution_count": null,
   "metadata": {
    "pycharm": {
     "name": "#%%\n"
    }
   },
   "outputs": [],
   "source": [
    "!pip install pydantic pandas"
   ]
  },
  {
   "cell_type": "code",
   "execution_count": null,
   "metadata": {
    "pycharm": {
     "name": "#%%\n"
    }
   },
   "outputs": [],
   "source": [
    "from pydantic import BaseModel\n",
    "import pandas as pd"
   ]
  },
  {
   "cell_type": "markdown",
   "metadata": {
    "pycharm": {
     "name": "#%% md\n"
    }
   },
   "source": [
    "Let's remind ourselves the architecture of a modern machine learning model:"
   ]
  },
  {
   "cell_type": "markdown",
   "metadata": {
    "pycharm": {
     "name": "#%% md\n"
    }
   },
   "source": [
    "<div>\n",
    "<img src=\"https://raw.githubusercontent.com/NatanMish/data_validation/main/notebooks/serving_diagram.png\" width=\"1000\"/>\n",
    "</div>"
   ]
  },
  {
   "cell_type": "markdown",
   "metadata": {
    "pycharm": {
     "name": "#%% md\n"
    }
   },
   "source": [
    "So we should expect to receive the input for our model via a REST API in, and return the prediction or classification accordingly. An object arriving in the REST API can be a JSON object, but we can also receive a CSV file, txt file etc. For the purposes of this tutorial, we will assume that the input is a JSON object, and we receive it in batches. Let's create a few model inputs straight from the test data:"
   ]
  },
  {
   "cell_type": "code",
   "execution_count": null,
   "metadata": {
    "pycharm": {
     "name": "#%%\n"
    }
   },
   "outputs": [],
   "source": [
    "test_home_data = pd.read_csv('https://github.com/NatanMish/data_validation/blob/a77b247b25c6622ce0c8f8cbc505228161c31a3c/data/test.csv?raw=true')"
   ]
  },
  {
   "cell_type": "code",
   "execution_count": null,
   "metadata": {
    "pycharm": {
     "name": "#%%\n"
    }
   },
   "outputs": [],
   "source": [
    "feature_names = ['YearBuilt', 'LotFrontage', 'GarageArea', 'OverallQual', 'OverallCond', 'MSZoning','TotalBsmtSF']"
   ]
  },
  {
   "cell_type": "code",
   "execution_count": null,
   "metadata": {
    "pycharm": {
     "name": "#%%\n"
    }
   },
   "outputs": [],
   "source": [
    "# we'll choose one record from the test data\n",
    "input_dict = test_home_data[feature_names].loc[1108].to_dict()"
   ]
  },
  {
   "cell_type": "code",
   "execution_count": null,
   "metadata": {
    "pycharm": {
     "name": "#%%\n"
    }
   },
   "outputs": [],
   "source": [
    "input_dict"
   ]
  },
  {
   "cell_type": "markdown",
   "metadata": {
    "pycharm": {
     "name": "#%% md\n"
    }
   },
   "source": [
    "We can already see that one of the features is missing. If our model is not made to handle missing values, it will break and no one wants that."
   ]
  },
  {
   "cell_type": "markdown",
   "metadata": {
    "pycharm": {
     "name": "#%% md\n"
    }
   },
   "source": [
    "<div>\n",
    "<img src=\"https://miro.medium.com/max/959/1*WNd3LXOi5xlDbitxsIARyw.png\" width=\"500\"/>\n",
    "</div>"
   ]
  },
  {
   "cell_type": "markdown",
   "metadata": {
    "pycharm": {
     "name": "#%% md\n"
    }
   },
   "source": [
    "Pydantic allows data validation and settings management using python type annotations. It enforces type hints at runtime, and provides user-friendly errors when data is invalid. Many great and loved projects are using Pydantic extensively, even the Jupyter project for notebooks we are using right now!\n",
    "Let's see how we can use it to validate our model inputs:"
   ]
  },
  {
   "cell_type": "code",
   "execution_count": null,
   "metadata": {
    "pycharm": {
     "name": "#%%\n"
    }
   },
   "outputs": [],
   "source": [
    "# The most basic building block of Pydantic is the BaseModel class. We can use it to define our custom models that define the structure of our objects:\n",
    "class Input(BaseModel):\n",
    "    YearBuilt: int\n",
    "    LotFrontage: int\n",
    "    GarageArea: float\n",
    "    OverallQual: int\n",
    "    OverallCond: int\n",
    "    MSZoning: str\n",
    "    TotalBsmtSF: float"
   ]
  },
  {
   "cell_type": "code",
   "execution_count": null,
   "metadata": {
    "pycharm": {
     "name": "#%%\n"
    }
   },
   "outputs": [],
   "source": [
    "# We can now use the Input class, and create a Input object from our sample record like so:\n",
    "model_input_object = Input(\n",
    "    YearBuilt=input_dict['YearBuilt'],\n",
    "    LotFrontage=input_dict['LotFrontage'],\n",
    "    GarageArea=input_dict['GarageArea'],\n",
    "    OverallQual=input_dict['OverallQual'],\n",
    "    OverallCond=input_dict['OverallCond'],\n",
    "    MSZoning=input_dict['MSZoning'],\n",
    "    TotalBsmtSF=input_dict['TotalBsmtSF']\n",
    ")"
   ]
  },
  {
   "cell_type": "markdown",
   "metadata": {
    "pycharm": {
     "name": "#%% md\n"
    }
   },
   "source": [
    "As we can see, the Input object raised an error while validating because one of the features is missing.\n",
    "Let's see how we can adjust the model, so it can handle missing values:"
   ]
  },
  {
   "cell_type": "code",
   "execution_count": null,
   "metadata": {
    "pycharm": {
     "name": "#%%\n"
    }
   },
   "outputs": [],
   "source": [
    "# What's cool about Pydantic is that it allows leveraging the built-in Python typing definitions.\n",
    "from typing import Optional, Any\n",
    "\n",
    "class Input(BaseModel):\n",
    "    YearBuilt: int\n",
    "    LotFrontage: Optional[Any]\n",
    "    GarageArea: float\n",
    "    OverallQual: int\n",
    "    OverallCond: int\n",
    "    MSZoning: str\n",
    "    TotalBsmtSF: float"
   ]
  },
  {
   "cell_type": "code",
   "execution_count": null,
   "metadata": {
    "pycharm": {
     "name": "#%%\n"
    }
   },
   "outputs": [],
   "source": [
    "# Instead of specifying each field one by one, we can use the **kwargs syntax to specify a list of fields:\n",
    "input_object = Input(**input_dict)"
   ]
  },
  {
   "cell_type": "code",
   "execution_count": null,
   "metadata": {
    "pycharm": {
     "name": "#%%\n"
    }
   },
   "outputs": [],
   "source": [
    "# And this is how our object looks like:\n",
    "input_object"
   ]
  },
  {
   "cell_type": "markdown",
   "metadata": {
    "pycharm": {
     "name": "#%% md\n"
    }
   },
   "source": [
    "Here are a few other cool features of Pydantic:"
   ]
  },
  {
   "cell_type": "markdown",
   "metadata": {
    "pycharm": {
     "name": "#%% md\n"
    }
   },
   "source": [
    "#### 1. Recursive models"
   ]
  },
  {
   "cell_type": "markdown",
   "metadata": {
    "pycharm": {
     "name": "#%% md\n"
    }
   },
   "source": [
    "Pydantic supports recursive models. This means that we can define a model that contains other models. For example, we can define a model that contains a batch of Input objects:"
   ]
  },
  {
   "cell_type": "code",
   "execution_count": null,
   "metadata": {
    "pycharm": {
     "name": "#%%\n"
    }
   },
   "outputs": [],
   "source": [
    "from typing import List\n",
    "\n",
    "class InputBatch(BaseModel):\n",
    "    inputs: List[Input]"
   ]
  },
  {
   "cell_type": "code",
   "execution_count": null,
   "metadata": {
    "pycharm": {
     "name": "#%%\n"
    }
   },
   "outputs": [],
   "source": [
    "# We'll grab a sample of the data:\n",
    "data_sample_dict = test_home_data[feature_names].sample(n=5).to_dict('index')\n",
    "data_sample_dict"
   ]
  },
  {
   "cell_type": "code",
   "execution_count": null,
   "metadata": {
    "pycharm": {
     "name": "#%%\n"
    }
   },
   "outputs": [],
   "source": [
    "# And we can create a InputBatch object from our sample data:\n",
    "inputs_list = [Input(**input_dict) for input_dict in data_sample_dict.values()]\n",
    "input_batch = InputBatch(inputs=inputs_list)"
   ]
  },
  {
   "cell_type": "code",
   "execution_count": null,
   "metadata": {
    "pycharm": {
     "name": "#%%\n"
    }
   },
   "outputs": [],
   "source": [
    "# And we can see that our object looks like this:\n",
    "input_batch"
   ]
  },
  {
   "cell_type": "markdown",
   "metadata": {
    "pycharm": {
     "name": "#%% md\n"
    }
   },
   "source": [
    "#### 2. Enums"
   ]
  },
  {
   "cell_type": "markdown",
   "metadata": {
    "pycharm": {
     "name": "#%% md\n"
    }
   },
   "source": [
    "Pydantic supports enumerations. This means that we can define a model that has a set of predefined values. For example, we can define a model that has a set of values for the MSZoning feature:"
   ]
  },
  {
   "cell_type": "code",
   "execution_count": null,
   "metadata": {
    "pycharm": {
     "name": "#%%\n"
    }
   },
   "outputs": [],
   "source": [
    "from enum import Enum\n",
    "\n",
    "class MSZoning(str, Enum):\n",
    "    C = 'C (all)'\n",
    "    FV = 'FV'\n",
    "    RH = 'RH'\n",
    "    RL = 'RL'\n",
    "    RM = 'RM'"
   ]
  },
  {
   "cell_type": "code",
   "execution_count": null,
   "metadata": {
    "pycharm": {
     "name": "#%%\n"
    }
   },
   "outputs": [],
   "source": [
    "# We can then include the enum in our model:\n",
    "class Input(BaseModel):\n",
    "    YearBuilt: int\n",
    "    LotFrontage: Optional[float]\n",
    "    GarageArea: float\n",
    "    OverallQual: int\n",
    "    OverallCond: int\n",
    "    MSZoning: MSZoning\n",
    "    TotalBsmtSF: float"
   ]
  },
  {
   "cell_type": "markdown",
   "metadata": {
    "pycharm": {
     "name": "#%% md\n"
    }
   },
   "source": [
    "#### 3. Custom base models"
   ]
  },
  {
   "cell_type": "markdown",
   "metadata": {
    "pycharm": {
     "name": "#%% md\n"
    }
   },
   "source": [
    "When developing a model you might end up referencing the model's field names many times in many different places using its literal name, for example:\n",
    "`year_built = model_input_object.YearBuilt`\n",
    "in the case that the field name changes in the future, you might have to update all the places that use the literal name which could be a pain.\n",
    "Luckily, we can define an extended base model that allows us to use the field name directly. Then we can create an enum class that holds the field names and use that whenever we set or get a specific field. If the field name changes in the source, we only have to update the enum class."
   ]
  },
  {
   "cell_type": "code",
   "execution_count": null,
   "outputs": [],
   "source": [
    "input_batch.inputs"
   ],
   "metadata": {
    "collapsed": false,
    "pycharm": {
     "name": "#%%\n"
    }
   }
  },
  {
   "cell_type": "code",
   "execution_count": null,
   "outputs": [],
   "source": [
    "class ExtendedBaseModel(BaseModel):\n",
    "    def __getitem__(self, item):\n",
    "        return getattr(self, item)\n",
    "\n",
    "    def __setitem__(self, item, value):\n",
    "        return setattr(self, item, value)"
   ],
   "metadata": {
    "collapsed": false,
    "pycharm": {
     "name": "#%%\n"
    }
   }
  },
  {
   "cell_type": "code",
   "execution_count": null,
   "metadata": {
    "pycharm": {
     "name": "#%%\n"
    }
   },
   "outputs": [],
   "source": [
    "class ExtendedBaseModel(BaseModel):\n",
    "    def __getitem__(self, item):\n",
    "        return getattr(self, item)\n",
    "\n",
    "    def __setitem__(self, item, value):\n",
    "        return setattr(self, item, value)"
   ]
  },
  {
   "cell_type": "code",
   "execution_count": null,
   "metadata": {
    "pycharm": {
     "name": "#%%\n"
    }
   },
   "outputs": [],
   "source": [
    "# by using the extended base model, we can use a bracket notation to access the field values:\n",
    "class Input(ExtendedBaseModel):\n",
    "    YearBuilt: int\n",
    "    LotFrontage: float\n",
    "    GarageArea: float\n",
    "    OverallQual: int\n",
    "    OverallCond: int\n",
    "    MSZoning: MSZoning\n",
    "    TotalBsmtSF: float\n",
    "\n",
    "input_object = Input(**input_dict)\n",
    "# now we can use a bracket notation to access the field values:\n",
    "input_object['YearBuilt']"
   ]
  },
  {
   "cell_type": "code",
   "execution_count": null,
   "metadata": {
    "pycharm": {
     "name": "#%%\n"
    }
   },
   "outputs": [],
   "source": [
    "# Let's create an enum class that holds the field names:\n",
    "class InputFieldNames(Enum):\n",
    "    YearBuilt = 'YearBuilt'\n",
    "    LotFrontage = 'LotFrontage'\n",
    "    GarageArea = 'GarageArea'\n",
    "    OverallQual = 'OverallQual'\n",
    "    OverallCond = 'OverallCond'\n",
    "    MSZoning = 'MSZoning'\n",
    "    TotalBsmtSF = 'TotalBsmtSF'"
   ]
  },
  {
   "cell_type": "code",
   "execution_count": null,
   "metadata": {
    "pycharm": {
     "name": "#%%\n"
    }
   },
   "outputs": [],
   "source": [
    "# and then we can access the field like so:\n",
    "input_object[InputFieldNames.YearBuilt.value]"
   ]
  },
  {
   "cell_type": "markdown",
   "metadata": {
    "pycharm": {
     "name": "#%% md\n"
    }
   },
   "source": [
    "#### 4. Catch bad data"
   ]
  },
  {
   "cell_type": "markdown",
   "metadata": {
    "pycharm": {
     "name": "#%% md\n"
    }
   },
   "source": [
    "In the case that a bad model input arrives, we can catch it, display a warning message, isolate the record and then continue without breaking the model. This can be done using a try except block:"
   ]
  },
  {
   "cell_type": "code",
   "execution_count": null,
   "metadata": {
    "pycharm": {
     "name": "#%%\n"
    }
   },
   "outputs": [],
   "source": [
    "from pydantic import ValidationError\n",
    "\n",
    "class Input(ExtendedBaseModel):\n",
    "    YearBuilt: int\n",
    "    LotFrontage: int\n",
    "    GarageArea: float\n",
    "    OverallQual: int\n",
    "    OverallCond: int\n",
    "    MSZoning: MSZoning\n",
    "    TotalBsmtSF: float\n",
    "\n",
    "try:\n",
    "    model_input_object = Input(**input_dict)\n",
    "except ValidationError as e:\n",
    "    print(f'Record: {input_dict}')\n",
    "    print(f'Bad data: {e.errors()}')\n",
    "\n",
    "    # isolate the record and then continue"
   ]
  },
  {
   "cell_type": "markdown",
   "metadata": {
    "pycharm": {
     "name": "#%% md\n"
    }
   },
   "source": [
    "#### 5. Custom validation"
   ]
  },
  {
   "cell_type": "code",
   "execution_count": null,
   "metadata": {
    "pycharm": {
     "name": "#%%\n"
    }
   },
   "outputs": [],
   "source": [
    "from pydantic import validator\n",
    "# Let's create a model input class with a custom validation function that checks that the garage area is greater than \n",
    "# 1000\n",
    "class Input(ExtendedBaseModel):\n",
    "    YearBuilt: int\n",
    "    LotFrontage: Optional[float]\n",
    "    GarageArea: float\n",
    "    OverallQual: int\n",
    "    OverallCond: int\n",
    "    MSZoning: MSZoning\n",
    "    TotalBsmtSF: float\n",
    "\n",
    "    @validator('GarageArea')\n",
    "    def check_garage_area(v):\n",
    "        if v <= 1000:\n",
    "            raise ValueError('Garage area must be greater than 1000')\n",
    "        return v"
   ]
  },
  {
   "cell_type": "code",
   "execution_count": null,
   "metadata": {
    "pycharm": {
     "name": "#%%\n"
    }
   },
   "outputs": [],
   "source": [
    "# As we can see by the value, the validator should alert us for this record:\n",
    "input_dict['GarageArea']"
   ]
  },
  {
   "cell_type": "code",
   "execution_count": null,
   "metadata": {
    "pycharm": {
     "name": "#%%\n"
    }
   },
   "outputs": [],
   "source": [
    "input_object = Input(**input_dict)"
   ]
  },
  {
   "cell_type": "markdown",
   "metadata": {
    "pycharm": {
     "name": "#%% md\n"
    }
   },
   "source": [
    "#### Exercise 1 - Pydantic models"
   ]
  },
  {
   "cell_type": "markdown",
   "metadata": {
    "pycharm": {
     "name": "#%% md\n"
    }
   },
   "source": [
    "Create a model class that represents the model input. Not all the checks requested were shown above, for some of them you'll need to have a quick search in the Pydantic documentation. The model class should have the following fields:\n",
    "1. YearBuilt - int - required - non nullable\n",
    "2. Fireplaces - int - optional - nullable\n",
    "3. FireplaceQu - FireplaceQu - optional - nullable - enum values of 'Ex', 'Gd', 'TA', 'Fa', 'Po'. If Fireplaces is greater than 0, FireplaceQu is required.\n",
    "4. Make the input model object immutable so that once it is created, it cannot be changed.\n"
   ]
  },
  {
   "cell_type": "code",
   "execution_count": null,
   "metadata": {
    "pycharm": {
     "name": "#%%\n"
    }
   },
   "outputs": [],
   "source": [
    "class FireplaceQu(str, Enum):\n",
    "    <YOUR CODE HERE>\n",
    "\n",
    "class Input(BaseModel):\n",
    "    <YOUR CODE HERE>\n",
    "\n",
    "    @validator(\"FireplaceQu\")\n",
    "    @classmethod\n",
    "    def validate_fire_places_quality_field(cls, field_value, values):\n",
    "        <YOUR CODE HERE>\n",
    "\n",
    "    class Config:\n",
    "        <YOUR CODE HERE>"
   ]
  },
  {
   "cell_type": "code",
   "execution_count": null,
   "metadata": {
    "pycharm": {
     "name": "#%%\n"
    }
   },
   "outputs": [],
   "source": [
    "# Let's create a few records and see if the validation works, this is a valid record:\n",
    "input_dict = {\n",
    "    'YearBuilt': '1901',\n",
    "    'Fireplaces': '0',\n",
    "    'FireplaceQu': 'Ex'\n",
    "}\n",
    "input_object = Input(**input_dict)"
   ]
  },
  {
   "cell_type": "code",
   "execution_count": null,
   "metadata": {
    "pycharm": {
     "name": "#%%\n"
    }
   },
   "outputs": [],
   "source": [
    "# and this is an invalid record:\n",
    "input_dict = {\n",
    "    'YearBuilt': '1901',\n",
    "    'Fireplaces': '1',\n",
    "    'FireplaceQu': None\n",
    "}\n",
    "input_object = Input(**input_dict)"
   ]
  },
  {
   "cell_type": "markdown",
   "metadata": {
    "pycharm": {
     "name": "#%% md\n"
    }
   },
   "source": [
    "*Exercise solutions can be found in the exercise solutions file in the current directory.*\n"
   ]
  }
 ],
 "metadata": {
  "kernelspec": {
   "display_name": "Python 3 (ipykernel)",
   "language": "python",
   "name": "python3"
  },
  "language_info": {
   "codemirror_mode": {
    "name": "ipython",
    "version": 3
   },
   "file_extension": ".py",
   "mimetype": "text/x-python",
   "name": "python",
   "nbconvert_exporter": "python",
   "pygments_lexer": "ipython3",
   "version": "3.8.11"
  }
 },
 "nbformat": 4,
 "nbformat_minor": 1
}